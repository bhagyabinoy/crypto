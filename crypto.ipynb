{
  "nbformat": 4,
  "nbformat_minor": 0,
  "metadata": {
    "colab": {
      "provenance": []
    },
    "kernelspec": {
      "name": "python3",
      "display_name": "Python 3"
    },
    "language_info": {
      "name": "python"
    }
  },
  "cells": [
    {
      "cell_type": "code",
      "execution_count": null,
      "metadata": {
        "id": "xodCjc4G8rhW"
      },
      "outputs": [],
      "source": [
        "from cryptography.hazmat.backends import default_backend\n",
        "from cryptography.hazmat.primitives.ciphers import Cipher, algorithms, modes\n",
        "from binascii import unhexlify\n",
        "from zlib import crc32\n",
        "import logging as log"
      ]
    },
    {
      "cell_type": "code",
      "source": [
        "def encrypt_text(plain_text, encrypt_key):\n",
        "    key = unhexlify(encrypt_key)\n",
        "    nonce = b'\\0' * len(key)\n",
        "\n",
        "    cipher = Cipher(algorithms.AES(key), modes.CTR(nonce), backend=default_backend())\n",
        "    enc = cipher.encryptor()\n",
        "\n",
        "    # Convert text to bytes\n",
        "    text_bytes = plain_text.encode('utf-8')\n",
        "\n",
        "    # Encrypt the text\n",
        "    enc_block = enc.update(text_bytes)\n",
        "    crc = crc32(enc_block)\n",
        "    encrypted_text = enc_block\n",
        "    return encrypted_text\n",
        "\n",
        "def decrypt_text(encrypted_text, encrypt_key):\n",
        "    key = unhexlify(encrypt_key)\n",
        "    nonce = b'\\0' * len(key)\n",
        "\n",
        "    cipher = Cipher(algorithms.AES(key), modes.CTR(nonce), backend=default_backend())\n",
        "    dec = cipher.decryptor()\n",
        "\n",
        "    # Decrypt the encrypted text\n",
        "    dec_block = dec.update(encrypted_text)\n",
        "    crc = crc32(dec_block)\n",
        "    decrypted_text = dec_block.decode('utf-8')\n",
        "    return decrypted_text\n",
        "\n",
        "# Example usage\n",
        "plaintext = \"98765432\"\n",
        "encryption_key = \"00112233445566778899aabbccddeeff\"\n",
        "\n",
        "# Encrypt\n",
        "encrypted_text = encrypt_text(plaintext, encryption_key)\n",
        "\n",
        "# Decrypt\n",
        "decrypted_text = decrypt_text(encrypted_text, encryption_key)"
      ],
      "metadata": {
        "id": "Y1DBp_Pv8zgw"
      },
      "execution_count": null,
      "outputs": []
    },
    {
      "cell_type": "code",
      "source": [
        "print(\"Original Text:\", plaintext)\n",
        "print(\"Encrypted Text:\", encrypted_text.hex())\n",
        "print(\"Decrypted Text:\", decrypted_text)\n"
      ],
      "metadata": {
        "colab": {
          "base_uri": "https://localhost:8080/"
        },
        "id": "4fxknV79V8f3",
        "outputId": "93978a91-9287-4988-c525-23e3b157beff"
      },
      "execution_count": null,
      "outputs": [
        {
          "output_type": "stream",
          "name": "stdout",
          "text": [
            "Original Text: 98765432\n",
            "Encrypted Text: c4dccc987f3dd312\n",
            "Decrypted Text: 98765432\n"
          ]
        }
      ]
    },
    {
      "cell_type": "code",
      "source": [
        "!pip install cryptography==2.8\n",
        "!pip install pycryptodome==3.15.0"
      ],
      "metadata": {
        "colab": {
          "base_uri": "https://localhost:8080/"
        },
        "id": "AV4TmzD1jbxm",
        "outputId": "bfe2710a-57e6-4a38-a604-1947ae0e9968"
      },
      "execution_count": null,
      "outputs": [
        {
          "output_type": "stream",
          "name": "stdout",
          "text": [
            "Requirement already satisfied: cryptography==2.8 in /usr/local/lib/python3.10/dist-packages (2.8)\n",
            "Requirement already satisfied: six>=1.4.1 in /usr/local/lib/python3.10/dist-packages (from cryptography==2.8) (1.16.0)\n",
            "Requirement already satisfied: cffi!=1.11.3,>=1.8 in /usr/local/lib/python3.10/dist-packages (from cryptography==2.8) (1.16.0)\n",
            "Requirement already satisfied: pycparser in /usr/local/lib/python3.10/dist-packages (from cffi!=1.11.3,>=1.8->cryptography==2.8) (2.21)\n",
            "Collecting pycryptodome==3.15.0\n",
            "  Downloading pycryptodome-3.15.0-cp35-abi3-manylinux2010_x86_64.whl (2.3 MB)\n",
            "\u001b[2K     \u001b[90m━━━━━━━━━━━━━━━━━━━━━━━━━━━━━━━━━━━━━━━━\u001b[0m \u001b[32m2.3/2.3 MB\u001b[0m \u001b[31m24.4 MB/s\u001b[0m eta \u001b[36m0:00:00\u001b[0m\n",
            "\u001b[?25hInstalling collected packages: pycryptodome\n",
            "Successfully installed pycryptodome-3.15.0\n"
          ]
        }
      ]
    },
    {
      "cell_type": "code",
      "source": [
        "import base64\n",
        "import hashlib\n",
        "import binascii\n",
        "from Crypto import Random\n",
        "from Crypto.Cipher import AES\n",
        "from flask import current_app as app\n",
        "\n",
        "from sqlalchemy import String\n",
        "from sqlalchemy import TypeDecorator\n",
        "\n",
        "BS = 16\n",
        "\n",
        "pad = lambda s: s + (BS - len(s) % BS) * chr(BS - len(s) % BS)\n",
        "unpad = lambda s: s[0:-s[-1]].decode()\n",
        "class AESCipher:\n",
        "\n",
        "    def __init__(self, key):\n",
        "        self.key = key.encode('utf8')\n",
        "\n",
        "    def encrypt(self, raw):\n",
        "        raw = pad(raw)\n",
        "        iv = Random.new().read(AES.block_size)\n",
        "        cipher = AES.new(self.key, AES.MODE_CBC, iv)\n",
        "        return base64.b64encode(iv + cipher.encrypt(raw.encode('utf8'))).decode()\n",
        "\n",
        "    def decrypt(self, enc):\n",
        "        enc = base64.b64decode(enc)\n",
        "        iv = enc[:16]\n",
        "        cipher = AES.new(self.key, AES.MODE_CBC, iv)\n",
        "        return unpad(cipher.decrypt(enc[16:]))\n",
        "\n",
        "class SymEncryption:\n",
        "\n",
        "    def __init__(self, key, nonce):\n",
        "        self.key = key.encode('utf8')\n",
        "        self.nonce = nonce.encode('utf8')\n",
        "\n",
        "    def sym_encrypt(self, data):\n",
        "        cipher = AES.new(self.key, AES.MODE_EAX, nonce=self.nonce)\n",
        "        data = data + (\" \" * (16 - (len(data) % 16)))\n",
        "        return cipher.encrypt(data.encode(\"utf-8\")).hex()\n",
        "\n",
        "    def sym_decrypt(self, data):\n",
        "        cipher = AES.new(self.key, AES.MODE_EAX, nonce=self.nonce)\n",
        "        data = data.encode('utf-8')\n",
        "        return cipher.decrypt(binascii.unhexlify(data)).decode(\"utf-8\").rstrip()\n",
        "\n",
        "\n",
        "class EncryptedValue(TypeDecorator):\n",
        "    impl = String\n",
        "\n",
        "    def process_bind_param(self, value, dialect):\n",
        "        if type(value) == list:\n",
        "            return value\n",
        "        ec_key = 'SYMENCKE'\n",
        "        ec_nonce = 'SYMCRYPTON'\n",
        "        sym = SymEncryption(ec_key, ec_nonce)\n",
        "        return sym.sym_encrypt(value)\n",
        "\n",
        "    def process_result_value(self, value, dialect):\n",
        "        if value:\n",
        "            if len(value) < 32:\n",
        "                return value\n",
        "            else:\n",
        "                try:\n",
        "                    ec_key = 'SYMENCKE'\n",
        "                    ec_nonce = 'SYMCRYPTON'\n",
        "                    sym = SymEncryption(ec_key, ec_nonce)\n",
        "                    return sym.sym_decrypt(value)\n",
        "                except:\n",
        "                    return value\n",
        "        else:\n",
        "            return ''\n",
        "\n",
        "class SHA:\n",
        "    @staticmethod\n",
        "    def encrypt(hash_string):\n",
        "        sha_signature = hashlib.sha256(hash_string.encode()).hexdigest()\n",
        "        return sha_signature\n"
      ],
      "metadata": {
        "id": "5EMep4_ji7KJ"
      },
      "execution_count": null,
      "outputs": []
    },
    {
      "cell_type": "code",
      "source": [
        "original_value = \"1000\"\n",
        "\n",
        "crypto_key = \"00112233445566778899aabbccddeeff\"\n",
        "crypto_nonce = \"SYMCRYPTON\"\n",
        "\n",
        "# Encryption using AESCipher\n",
        "aes_cipher = AESCipher(crypto_key)\n",
        "encrypted_aes = aes_cipher.encrypt(original_value)\n",
        "print(f\"Encrypted using AESCipher: {encrypted_aes}\")\n",
        "\n",
        "# Decryption using AESCipher\n",
        "decrypted_aes = aes_cipher.decrypt(encrypted_aes)\n",
        "print(f\"Decrypted using AESCipher: {decrypted_aes}\")\n",
        "\n",
        "# Encryption using SymEncryption\n",
        "sym_cipher = SymEncryption(crypto_key, crypto_nonce)\n",
        "encrypted_sym = sym_cipher.sym_encrypt(original_value)\n",
        "print(f\"Encrypted using SymEncryption: {encrypted_sym}\")\n",
        "\n",
        "# Decryption using SymEncryption\n",
        "decrypted_sym = sym_cipher.sym_decrypt(encrypted_sym)\n",
        "print(f\"Decrypted using SymEncryption: {decrypted_sym}\")\n"
      ],
      "metadata": {
        "colab": {
          "base_uri": "https://localhost:8080/"
        },
        "id": "18jA6wCxj86c",
        "outputId": "36f59c4b-238b-4518-81f8-06cc1a937f95"
      },
      "execution_count": null,
      "outputs": [
        {
          "output_type": "stream",
          "name": "stdout",
          "text": [
            "Encrypted using AESCipher: PHCocVWUSH7tgqEX8J6m9IWMem3/liFG5iAdEO/2re8=\n",
            "Decrypted using AESCipher: 1000\n",
            "Encrypted using SymEncryption: 3e7605e5527ecc45f1f04a98e69f68ca\n",
            "Decrypted using SymEncryption: 1000\n"
          ]
        }
      ]
    },
    {
      "cell_type": "code",
      "source": [
        "!pip install faker"
      ],
      "metadata": {
        "colab": {
          "base_uri": "https://localhost:8080/"
        },
        "id": "ZrXBwse55vDq",
        "outputId": "5c1a01a7-9776-44c1-b29c-38667101853a"
      },
      "execution_count": null,
      "outputs": [
        {
          "output_type": "stream",
          "name": "stdout",
          "text": [
            "Collecting faker\n",
            "  Downloading Faker-22.2.0-py3-none-any.whl (1.7 MB)\n",
            "\u001b[2K     \u001b[90m━━━━━━━━━━━━━━━━━━━━━━━━━━━━━━━━━━━━━━━━\u001b[0m \u001b[32m1.7/1.7 MB\u001b[0m \u001b[31m8.2 MB/s\u001b[0m eta \u001b[36m0:00:00\u001b[0m\n",
            "\u001b[?25hRequirement already satisfied: python-dateutil>=2.4 in /usr/local/lib/python3.10/dist-packages (from faker) (2.8.2)\n",
            "Requirement already satisfied: six>=1.5 in /usr/local/lib/python3.10/dist-packages (from python-dateutil>=2.4->faker) (1.16.0)\n",
            "Installing collected packages: faker\n",
            "Successfully installed faker-22.2.0\n"
          ]
        }
      ]
    },
    {
      "cell_type": "code",
      "source": [
        "from faker import Faker\n",
        "fake = Faker()"
      ],
      "metadata": {
        "id": "2GFin7tg5ndf"
      },
      "execution_count": null,
      "outputs": []
    },
    {
      "cell_type": "code",
      "source": [
        "print(\"Current VIN:\", fake.uuid4())\n",
        "print(\"Current Make:\", fake.company())\n",
        "print(\"Current Model:\", fake.word())\n",
        "print(\"Current Year:\", fake.year())\n",
        "print(\"Current Mileage:\", fake.random_int(min=1000, max=50000))\n",
        "print(\"Current Condition:\", fake.word())\n",
        "print(\"Current Value:\", fake.random_int(min=10000, max=50000))\n",
        "\n",
        "print(\"Interest VIN:\", fake.uuid4())\n",
        "print(\"Interest Make:\", fake.company())\n",
        "print(\"Interest Model:\", fake.word())\n",
        "print(\"Interest Trim:\", fake.word())\n",
        "print(\"Interest Stock:\", fake.uuid4())\n",
        "print(\"Interest Year:\", fake.year())\n",
        "print(\"Interest Price:\", fake.random_int(min=10000, max=50000))\n",
        "print(\"Interest Status: Available\")\n",
        "print(\"Interest Mileage:\", fake.random_int(min=1000, max=50000))\n",
        "print(\"Interest Condition:\", fake.word())\n",
        "print(\"Interest Listing URL:\", fake.url())\n"
      ],
      "metadata": {
        "colab": {
          "base_uri": "https://localhost:8080/"
        },
        "id": "vRIk--_06PNi",
        "outputId": "2ae5cf28-d5f0-432f-d343-754ef4660351"
      },
      "execution_count": null,
      "outputs": [
        {
          "output_type": "stream",
          "name": "stdout",
          "text": [
            "Current VIN: fd9ee735-330f-45be-8e15-8ff03d1be01c\n",
            "Current Make: Rice and Sons\n",
            "Current Model: at\n",
            "Current Year: 1998\n",
            "Current Mileage: 6765\n",
            "Current Condition: move\n",
            "Current Value: 42028\n",
            "Interest VIN: 1f4b4e9f-f9e2-4b15-bef2-2a06a8c8613d\n",
            "Interest Make: Martin PLC\n",
            "Interest Model: lose\n",
            "Interest Trim: anyone\n",
            "Interest Stock: c46f6265-8795-4397-8051-78d7f950f81a\n",
            "Interest Year: 1992\n",
            "Interest Price: 48780\n",
            "Interest Status: Available\n",
            "Interest Mileage: 11900\n",
            "Interest Condition: eye\n",
            "Interest Listing URL: http://cowan-mccall.com/\n"
          ]
        }
      ]
    }
  ]
}